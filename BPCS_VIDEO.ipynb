{
 "cells": [
  {
   "cell_type": "code",
   "execution_count": 11,
   "id": "9eb6f1b8",
   "metadata": {},
   "outputs": [],
   "source": [
    "from tkinter import messagebox\n",
    "import numpy as np\n",
    "\n",
    "import random\n",
    "import base64\n",
    "\n",
    "from src.helper.file import File\n",
    "from src.helper.cipher import encrypt_vigenere\n",
    "\n",
    "import module as md\n",
    "import extractor as ex\n",
    "\n",
    "from datetime import timedelta\n",
    "import cv2\n",
    "import numpy as np\n",
    "import os, os.path"
   ]
  },
  {
   "cell_type": "markdown",
   "id": "a7faed45",
   "metadata": {},
   "source": [
    "### ================= UNTUK EXTRACT GAMBAR DARI VIDEO ================"
   ]
  },
  {
   "cell_type": "code",
   "execution_count": 12,
   "id": "dc41ce83",
   "metadata": {},
   "outputs": [],
   "source": [
    "def get_saving_frames_durations(cap, saving_fps):\n",
    "    \"\"\"A function that returns the list of durations where to save the frames\"\"\"\n",
    "    s = []\n",
    "    # get the clip duration by dividing number of frames by the number of frames per second\n",
    "    clip_duration = cap.get(cv2.CAP_PROP_FRAME_COUNT) / cap.get(cv2.CAP_PROP_FPS)\n",
    "    # use np.arange() to make floating-point steps\n",
    "    for i in np.arange(0, clip_duration, 1 / saving_fps):\n",
    "        s.append(i)\n",
    "    return s"
   ]
  },
  {
   "cell_type": "code",
   "execution_count": 13,
   "id": "251b1d9b",
   "metadata": {},
   "outputs": [],
   "source": [
    "width, height = 0,0\n",
    "fps = 0\n",
    "def main(video_file):\n",
    "    global width\n",
    "    global height\n",
    "    global fps\n",
    "    filename, _ = os.path.splitext(video_file)\n",
    "    filename += \"-opencv\"\n",
    "    # make a folder by the name of the video file\n",
    "    if not os.path.isdir(filename):\n",
    "        os.mkdir(filename)\n",
    "    # read the video file    \n",
    "    cap = cv2.VideoCapture(video_file)\n",
    "    width = cap.get(cv2.CAP_PROP_FRAME_WIDTH )\n",
    "    height = cap.get(cv2.CAP_PROP_FRAME_HEIGHT )\n",
    "    # get the FPS of the video\n",
    "    fps = cap.get(cv2.CAP_PROP_FPS)\n",
    "    fps = int(fps)\n",
    "    # if the SAVING_FRAMES_PER_SECOND is above video FPS, then set it to FPS (as maximum)\n",
    "    saving_frames_per_second = fps\n",
    "    # get the list of duration spots to save\n",
    "    saving_frames_durations = get_saving_frames_durations(cap, saving_frames_per_second)\n",
    "    # start the loop\n",
    "    count = 0\n",
    "    while True:\n",
    "        is_read, frame = cap.read()\n",
    "        if not is_read:\n",
    "            # break out of the loop if there are no frames to read\n",
    "            break\n",
    "        # get the duration by dividing the frame count by the FPS\n",
    "        frame_duration = count / fps\n",
    "        try:\n",
    "            # get the earliest duration to save\n",
    "            closest_duration = saving_frames_durations[0]\n",
    "        except IndexError:\n",
    "            # the list is empty, all duration frames were saved\n",
    "            break\n",
    "        if frame_duration >= closest_duration:\n",
    "            # if closest duration is less than or equals the frame duration, \n",
    "            # then save the frame\n",
    "            cv2.imwrite(os.path.join(filename, f\"{count}.jpg\"), frame) \n",
    "            # drop the duration spot from the list, since this duration spot is already saved\n",
    "            try:\n",
    "                saving_frames_durations.pop(0)\n",
    "            except IndexError:\n",
    "                pass\n",
    "        # increment the frame count\n",
    "        count += 1"
   ]
  },
  {
   "cell_type": "markdown",
   "id": "28b0c74f",
   "metadata": {},
   "source": [
    "### ================== MILIH FRAME ACAK LALU MASUKKIN PESAN PAKAI BPCS ==============="
   ]
  },
  {
   "cell_type": "code",
   "execution_count": 14,
   "id": "d5053cb6",
   "metadata": {},
   "outputs": [],
   "source": [
    "path = './sample/video/tes.mp4'\n",
    "main(path)"
   ]
  },
  {
   "cell_type": "code",
   "execution_count": 15,
   "id": "bd4c66b5",
   "metadata": {},
   "outputs": [],
   "source": [
    "DIR = './sample/video/tes-opencv/'\n",
    "frame_count = (len([name for name in os.listdir(DIR) if os.path.isfile(os.path.join(DIR, name))]))"
   ]
  },
  {
   "cell_type": "code",
   "execution_count": 16,
   "id": "f28fb9b3",
   "metadata": {},
   "outputs": [
    {
     "name": "stdout",
     "output_type": "stream",
     "text": [
      "9\n"
     ]
    }
   ],
   "source": [
    "frame = random.randint(0, frame_count)\n",
    "file = './sample/video/tes-opencv/'+str(frame)+'.jpg'\n",
    "message = 'short.txt'\n",
    "key = 'anu'\n",
    "\n",
    "insert = md.Inserter(file, message, key)\n",
    "\n",
    "inserted_image = insert.insert_message(encrypted=True, randomize=False, method='bpcs', alpha=0.3)\n",
    "\n",
    "output = './sample/video/tes-opencv/'+str(frame)+'.jpg'\n",
    "output_file = File(output)\n",
    "output_file.write_image_file(inserted_image)\n",
    "print(frame)"
   ]
  },
  {
   "cell_type": "markdown",
   "id": "6c2502bb",
   "metadata": {},
   "source": [
    "### ================ GABUNGIN VIDEO DENGAN GAMBAR YANG ADA PESANNYA =============="
   ]
  },
  {
   "cell_type": "code",
   "execution_count": 8,
   "id": "718c8908",
   "metadata": {},
   "outputs": [],
   "source": [
    " # choose codec according to format needed\n",
    "fourcc = cv2.VideoWriter_fourcc(*'mp4v') \n",
    "video = cv2.VideoWriter('video.mp4', fourcc, frameSize = (int(width), int(height)), fps=int(fps))\n",
    "\n",
    "for j in range(0,59):\n",
    "    path = './sample/video/tes-opencv/' + str(j) + '.jpg'\n",
    "    img = cv2.imread('./sample/video/tes-opencv/' + str(j) + '.jpg')\n",
    "    video.write(img)\n",
    "\n",
    "cv2.destroyAllWindows()\n",
    "video.release()"
   ]
  },
  {
   "cell_type": "markdown",
   "id": "2fb8923f",
   "metadata": {},
   "source": [
    "### ===========================EXTRACTOR PESAN TERSEMBUNYI==============================="
   ]
  },
  {
   "cell_type": "code",
   "execution_count": 17,
   "id": "33b398ca",
   "metadata": {},
   "outputs": [],
   "source": [
    "path = 'video.mp4'\n",
    "main(path)"
   ]
  },
  {
   "cell_type": "code",
   "execution_count": null,
   "id": "ecf61b77",
   "metadata": {},
   "outputs": [],
   "source": [
    "file = 'video.mp4'\n",
    "key = 'anu'\n",
    "\n",
    "extract = ex.Extractor (file, key)\n",
    "extract.extract_message()\n",
    "extract.parse_message()\n",
    "\n",
    "output = 'short_output.txt'\n",
    "output_file = File (output)\n",
    "byte = extract.write_secret_message()\n",
    "output_file.write_files(byte)"
   ]
  }
 ],
 "metadata": {
  "kernelspec": {
   "display_name": "Python 3 (ipykernel)",
   "language": "python",
   "name": "python3"
  },
  "language_info": {
   "codemirror_mode": {
    "name": "ipython",
    "version": 3
   },
   "file_extension": ".py",
   "mimetype": "text/x-python",
   "name": "python",
   "nbconvert_exporter": "python",
   "pygments_lexer": "ipython3",
   "version": "3.8.12"
  }
 },
 "nbformat": 4,
 "nbformat_minor": 5
}
